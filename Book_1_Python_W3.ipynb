{
 "cells": [
  {
   "cell_type": "markdown",
   "metadata": {},
   "source": [
    "## Book- 1 Python complete refresher - W3 Schools"
   ]
  },
  {
   "cell_type": "markdown",
   "metadata": {},
   "source": [
    "- Python is a popular language used for - web development(server-side), Software Developement, Mathematics, System Scripts"
   ]
  },
  {
   "cell_type": "markdown",
   "metadata": {},
   "source": [
    "- python runs on interpreter system which means that code can be executed as soon as it is written. Therefore prototyping can be very quick"
   ]
  },
  {
   "cell_type": "markdown",
   "metadata": {},
   "source": [
    "- check python version - \n",
    "> python --version"
   ]
  },
  {
   "cell_type": "markdown",
   "metadata": {},
   "source": [
    "### Python Variables "
   ]
  },
  {
   "cell_type": "markdown",
   "metadata": {},
   "source": [
    "- Assign Values to multiple variables in one line - \n",
    ">- x, y, z = \"Orange\", \"Banana\", \"Cherry\"\n",
    ">- Assigning same values to multiple variabes\n",
    ">- x = y = z = \"Orange\""
   ]
  },
  {
   "cell_type": "markdown",
   "metadata": {},
   "source": [
    "- To combine both text and a variable, use + Character - \n",
    ">- x = 'awesome'\n",
    ">- print(\"Python is \" + x)"
   ]
  },
  {
   "cell_type": "markdown",
   "metadata": {},
   "source": [
    "- Global Variables - \n",
    "Variables that are created outside a function can be used inside and outside functions"
   ]
  },
  {
   "cell_type": "code",
   "execution_count": 6,
   "metadata": {},
   "outputs": [],
   "source": [
    "x = \"awesome\" ## Global Variable\n",
    "\n",
    "def myfunction1():\n",
    "    print(\"Python is \"+ x)"
   ]
  },
  {
   "cell_type": "code",
   "execution_count": 7,
   "metadata": {},
   "outputs": [
    {
     "name": "stdout",
     "output_type": "stream",
     "text": [
      "Python is awesome\n"
     ]
    }
   ],
   "source": [
    "myfunction1()"
   ]
  },
  {
   "cell_type": "markdown",
   "metadata": {},
   "source": [
    "- Local Variable -  If you create a variable with the same nae inside a function, this variable will be local and can only be used inside the function. The global variable with the same name will remain as it is, global with original value"
   ]
  },
  {
   "cell_type": "code",
   "execution_count": 10,
   "metadata": {},
   "outputs": [],
   "source": [
    "x = \"awesome\" ## Global Variable\n",
    "\n",
    "def myfunction2():\n",
    "    x = \"Dope\" ## Local Variable\n",
    "    \n",
    "    print(\"Python is \" + x)"
   ]
  },
  {
   "cell_type": "code",
   "execution_count": 11,
   "metadata": {},
   "outputs": [
    {
     "name": "stdout",
     "output_type": "stream",
     "text": [
      "Python is Dope\n"
     ]
    }
   ],
   "source": [
    "myfunction2()"
   ]
  },
  {
   "cell_type": "markdown",
   "metadata": {},
   "source": [
    "- Global Keyword - To create a Global Variale inside a function we can use the Global keyword"
   ]
  },
  {
   "cell_type": "code",
   "execution_count": 16,
   "metadata": {},
   "outputs": [
    {
     "name": "stdout",
     "output_type": "stream",
     "text": [
      "Python is Fantastic\n"
     ]
    }
   ],
   "source": [
    "def myfunction3():\n",
    "    global x #Global variable inside a function\n",
    "    x = 'Fantastic'\n",
    "\n",
    "print(\"Python is \" + x) # Global variable used outside a function and declared inside a functionS"
   ]
  },
  {
   "cell_type": "code",
   "execution_count": 18,
   "metadata": {},
   "outputs": [
    {
     "name": "stdout",
     "output_type": "stream",
     "text": [
      "Python is fantastic\n"
     ]
    }
   ],
   "source": [
    "x = \"awesome\" # Global Variable\n",
    "\n",
    "def myfunc():\n",
    "  global x  #altering the value of Global Variable\n",
    "  x = \"fantastic\"\n",
    "\n",
    "myfunc()\n",
    "\n",
    "print(\"Python is \" + x)"
   ]
  },
  {
   "cell_type": "markdown",
   "metadata": {},
   "source": [
    "### Python Data Types"
   ]
  },
  {
   "cell_type": "markdown",
   "metadata": {},
   "source": [
    "Data Types in Python - \n",
    ">- text type - Str\n",
    ">- Numeric - Int, float, complex\n",
    ">- Sequence - List, Tuple, Range\n",
    ">- Mapping Type - Dictionary\n",
    ">- set Types - Set, Frozenset\n",
    ">- Boolean - Bool\n",
    ">- Binary - Bytes, bytearray, memoryview\n"
   ]
  },
  {
   "cell_type": "markdown",
   "metadata": {},
   "source": [
    ">- Getting the Data Type - you can get the type of any object using the type() function"
   ]
  },
  {
   "cell_type": "code",
   "execution_count": 3,
   "metadata": {},
   "outputs": [
    {
     "name": "stdout",
     "output_type": "stream",
     "text": [
      "<class 'int'>\n"
     ]
    }
   ],
   "source": [
    "x = 5 ## integer data type will be reflected in the output\n",
    "print(type(x)) "
   ]
  },
  {
   "cell_type": "markdown",
   "metadata": {},
   "source": [
    ">- Python automatically recognizes the data types unlinke other languages. "
   ]
  },
  {
   "cell_type": "code",
   "execution_count": 5,
   "metadata": {},
   "outputs": [],
   "source": [
    "x1 = \"Hello World\" ## String\n",
    "x2 = 20            ## integer\n",
    "x3 = 20.5          ## Float\n",
    "x4 = 1j            ## Complex\n",
    "x5 = [\"Apple\", \"Banana\", \"Cherry\"] ## List\n",
    "x6 = (\"Apple\", \"Banana\", \"Cherry\") ## Tuple\n",
    "x7 = range(6)      ##Range\n",
    "x8 = {\"Name\" : \"John\", \"Age\" : 16} ## Dictionary\n",
    "x9 = {\"Apple\", \"Banana\", \"Cherry\"} ## Set\n",
    "x10 = frozenset ({\"Apple\", \"Banana\", \"Cherry\"}) ##Frozen Set\n",
    "x11 = True         ## Boolean\n",
    "x12 = b\"Hello\"     ## Bytes\n",
    "x13 = bytearray(5) ## Bytearray\n",
    "x14 = memoryview(bytes(5))         ## Memoryview\n"
   ]
  },
  {
   "cell_type": "markdown",
   "metadata": {},
   "source": [
    ">- If you want to specify a particular data type then use the following constructors - "
   ]
  },
  {
   "cell_type": "code",
   "execution_count": 6,
   "metadata": {},
   "outputs": [],
   "source": [
    "x15 = str(\"Hello World\")\n",
    "x16 = int(20)\n",
    "x17 = float(20.3)\n",
    "x18 = complex(1j)\n",
    "x19 = list((\"Apple\", \"Banana\", \"Cherry\"))\n",
    "x20 = tuple((\"Apple\", \"Banana\", \"Cherry\"))\n",
    "x21 = range(6)\n",
    "x22 = dict(name = \"John\", age = \"24\")\n",
    "x23 = set((\"Apple\", \"Banana\", \"Cherry\"))\n",
    "x24 = frozenset((\"Apple\", \"Banana\", \"Cherry\"))"
   ]
  },
  {
   "cell_type": "markdown",
   "metadata": {},
   "source": [
    ">- Random Number = Python doesnot have a random() function to make a random number, but Python has a built-in module called random that can be used to make random numbers:"
   ]
  },
  {
   "cell_type": "code",
   "execution_count": 10,
   "metadata": {},
   "outputs": [
    {
     "name": "stdout",
     "output_type": "stream",
     "text": [
      "2\n"
     ]
    }
   ],
   "source": [
    "import random\n",
    "print(random.randrange(1,10))"
   ]
  },
  {
   "cell_type": "markdown",
   "metadata": {},
   "source": [
    "#### Python Casting"
   ]
  },
  {
   "cell_type": "markdown",
   "metadata": {},
   "source": [
    ">- Specifying a type on to a variable using casting. Python is an object-oriented and it uses classes to define data types including  the primitive data types"
   ]
  },
  {
   "cell_type": "markdown",
   "metadata": {},
   "source": [
    ">- Casting in python is done using constructor functions -\n",
    ">- int() - integer number from integer literal, float rounding to previous whole, string to whole\n",
    ">- float() - float from integer literal\n",
    ">- str()- converts into string"
   ]
  },
  {
   "cell_type": "code",
   "execution_count": 12,
   "metadata": {},
   "outputs": [
    {
     "name": "stdout",
     "output_type": "stream",
     "text": [
      "1\n",
      "2\n",
      "3\n"
     ]
    }
   ],
   "source": [
    "x25 = int(1)\n",
    "x26 = int(2.8) \n",
    "x27 = int(\"3\")\n",
    "\n",
    "print(x25)\n",
    "print(x26)\n",
    "print(x27)"
   ]
  },
  {
   "cell_type": "markdown",
   "metadata": {},
   "source": [
    "#### Strings "
   ]
  },
  {
   "cell_type": "markdown",
   "metadata": {},
   "source": [
    ">- Multiline String \"\"\"this is a multiline string literal\n",
    "What do you think about this python tutorial let us know at \n",
    "pythontutorial.com\n",
    "\"\"\""
   ]
  },
  {
   "cell_type": "code",
   "execution_count": 14,
   "metadata": {},
   "outputs": [
    {
     "data": {
      "text/plain": [
       "2"
      ]
     },
     "execution_count": 14,
     "metadata": {},
     "output_type": "execute_result"
    }
   ],
   "source": [
    "1+1"
   ]
  },
  {
   "cell_type": "markdown",
   "metadata": {},
   "source": [
    "Strings are arrays of bytes representing unicode characters. Square characters can be used to access the elements of the string"
   ]
  },
  {
   "cell_type": "code",
   "execution_count": 17,
   "metadata": {},
   "outputs": [
    {
     "name": "stdout",
     "output_type": "stream",
     "text": [
      "llo\n"
     ]
    }
   ],
   "source": [
    "x28 = \"Hello World\"\n",
    "print(x28[2:5]) ## Slicing to access the elements of the string"
   ]
  },
  {
   "cell_type": "code",
   "execution_count": 19,
   "metadata": {},
   "outputs": [
    {
     "name": "stdout",
     "output_type": "stream",
     "text": [
      "Wor\n"
     ]
    }
   ],
   "source": [
    "print(x28[-5:-2]) ##Negative Slicing"
   ]
  },
  {
   "cell_type": "code",
   "execution_count": 21,
   "metadata": {},
   "outputs": [
    {
     "name": "stdout",
     "output_type": "stream",
     "text": [
      "11\n"
     ]
    }
   ],
   "source": [
    "print(len(x28)) ##Length of the string"
   ]
  },
  {
   "cell_type": "code",
   "execution_count": 23,
   "metadata": {},
   "outputs": [
    {
     "name": "stdout",
     "output_type": "stream",
     "text": [
      "Hello World\n"
     ]
    }
   ],
   "source": [
    "x29 = \"  Hello World  \"\n",
    "print(x29.strip()) ##Removes the white space before or at the end of the strings"
   ]
  },
  {
   "cell_type": "code",
   "execution_count": 25,
   "metadata": {},
   "outputs": [
    {
     "name": "stdout",
     "output_type": "stream",
     "text": [
      "  hello world  \n"
     ]
    }
   ],
   "source": [
    "print(x29.lower()) ##Returns the lower case"
   ]
  },
  {
   "cell_type": "code",
   "execution_count": 27,
   "metadata": {},
   "outputs": [
    {
     "name": "stdout",
     "output_type": "stream",
     "text": [
      "  HELLO WORLD  \n"
     ]
    }
   ],
   "source": [
    "print(x29.upper()) ##Return in the upper case"
   ]
  },
  {
   "cell_type": "code",
   "execution_count": 29,
   "metadata": {},
   "outputs": [
    {
     "name": "stdout",
     "output_type": "stream",
     "text": [
      "  Jello World  \n"
     ]
    }
   ],
   "source": [
    "print(x29.replace(\"H\", \"J\")) ##Replaces the string with the other string"
   ]
  },
  {
   "cell_type": "code",
   "execution_count": 31,
   "metadata": {},
   "outputs": [
    {
     "name": "stdout",
     "output_type": "stream",
     "text": [
      "['Hello', 'World']\n"
     ]
    }
   ],
   "source": [
    "print(x29.split()) ## Splits the string at the white space or seprator"
   ]
  },
  {
   "cell_type": "code",
   "execution_count": 35,
   "metadata": {},
   "outputs": [
    {
     "name": "stdout",
     "output_type": "stream",
     "text": [
      "True\n"
     ]
    }
   ],
   "source": [
    "##String Check - \n",
    "x30 = \"The rain in Spain stays mainly in the plain\"\n",
    "x31 = 'ain' in x30  ##String present in \n",
    "(print(x31))"
   ]
  },
  {
   "cell_type": "code",
   "execution_count": 37,
   "metadata": {},
   "outputs": [
    {
     "name": "stdout",
     "output_type": "stream",
     "text": [
      "True\n"
     ]
    }
   ],
   "source": [
    "x32 = \"asdf\" not in x30 ##string not present in\n",
    "print(x32)\n"
   ]
  },
  {
   "cell_type": "code",
   "execution_count": 39,
   "metadata": {},
   "outputs": [
    {
     "name": "stdout",
     "output_type": "stream",
     "text": [
      "Hello World\n"
     ]
    }
   ],
   "source": [
    "#string concatenation\n",
    "x33 = \"Hello \"\n",
    "x34 = \"World\"\n",
    "\n",
    "x35 = x33 + x34\n",
    "print(x35)"
   ]
  },
  {
   "cell_type": "code",
   "execution_count": 45,
   "metadata": {},
   "outputs": [
    {
     "name": "stdout",
     "output_type": "stream",
     "text": [
      "My name is Anshul and my age is 28\n"
     ]
    }
   ],
   "source": [
    "##String Concatenation using format() \n",
    "age = 28\n",
    "x36 = \"My name is Anshul and my age is {}\".format(age)\n",
    "print(x36)"
   ]
  },
  {
   "cell_type": "code",
   "execution_count": 49,
   "metadata": {},
   "outputs": [
    {
     "name": "stdout",
     "output_type": "stream",
     "text": [
      "We are the so called \"Vikings\" from the north\n"
     ]
    }
   ],
   "source": [
    "##Escape Character-\n",
    "## To insert characters that are illegal in a string use an escape character-\n",
    "##Escape character is a backlash \\ followed by a character you want to insert\n",
    "\n",
    "x37 = \"We are the so called \\\"Vikings\\\" from the north\" \n",
    "print(x37)"
   ]
  },
  {
   "cell_type": "markdown",
   "metadata": {},
   "source": [
    ">- Escape Characters in Python - ## Some of the backslashes are'nt visible \n",
    ">- \\' Single Quote ## \\'\n",
    ">- \\\\ Backslash\n",
    ">- \\n New Line\n",
    ">- \\r Carriage Return\n",
    ">- \\t Tab\n",
    ">- \\b BackSpace\n",
    ">-\\f Form feed\n",
    ">- \\oooo Octal Value\n",
    ">- \\xhh HexValue"
   ]
  },
  {
   "cell_type": "markdown",
   "metadata": {},
   "source": [
    ">- String Methods - Built In\n",
    "\n",
    ">- capitalize() - Converts first character to upper case\n",
    ">- casefold() - Converts the string to lower case\n",
    ">- Center() - Returns a centered string\n",
    ">- Count() - Returns the number of times a specified value occurs in a string\n",
    ">- encode() - Returns an encoded version of the string\n",
    ">- endswidth() - Returns true if the string ends with a specified value\n",
    ">- expandtabs() - Sets the tab size of the string\n",
    ">- find() - searches the string for a specified value and returns the postion of where it was found\n",
    ">- format() - Format specified values in a string\n",
    ">- format_map() - Formats specified values in a string\n",
    ">- index() - searches the string for a specified value and returns the position where it was found\n",
    ">- isalnum() - Return True if all characters in the string are alphanumeric\n",
    ">- isalpha() - Returns True if all characters in the string are alphabet\n",
    ">- isdecimal() - Returns True if all characters in the string are decimal\n",
    ">- isdigit() - Returns True if all characters in the string are digit\n",
    ">- isidentifier() - Returns True if the string si an identifier\n",
    ">- islower() - Returns True if all the characters are lower casef\n",
    ">- isnumeric() - Return True if all the characters are numeric\n",
    ">- isprintable() - Returns True if all the characters are printable\n",
    ">- isspace() - Returns True if all the charcters in the string are whitespaces\n",
    ">- istitle() - Returns True if the string follows the rules of a Title\n",
    ">- isupper() - Returns True if all characters in the string are upper case\n",
    ">- join() - join the elements of an iterable to the end of the string\n",
    ">- ljust() - Returns a left justified version of the string\n",
    ">- lower() - Converts a string into a lower case\n",
    ">- lstrip() - Returns a left trim version of the string\n",
    ">- maketrans() - Returns a translation table to be used in translation\n",
    ">- partition() - Returns a tuple where the string is parted into three parts\n",
    ">- replace() - Returns a string where a specified value is replaced with a specified value\n",
    ">- rfind() - Searches the string for a specified value and returns the last position if where it was found\n",
    ">- rindex() - Searched the string for a specified value and returns the last position of where it was found\n",
    ">- rjust() - Returns a right justified version of the string\n",
    ">- rpartition() - Returns a tuple where the string is parted into three parts\n",
    ">- rsplit() - Splits the string at the specified seperator and returns a list\n",
    ">- rstrip() - Returns a right trim version of the string\n",
    ">- split() - Splits the string at the specified separator and returns a list\n",
    ">- splitlines() - Splits the string at line breaks and returns a list\n",
    ">- Startswith() - Returns true if the string starts with the specified value\n",
    ">- strip() - Returns a trimmed version of the string\n",
    ">- swapcase() - Swaps cases, lower case becomes upper and vice versa\n",
    ">- title() - Converts the first character of each word to upper case\n",
    ">- translate() - returns a translated string\n",
    ">- upper() - converts a string into upper case\n",
    ">-zfill() - fills the string with a specified number of 0 values at the beginning"
   ]
  },
  {
   "cell_type": "markdown",
   "metadata": {},
   "source": [
    ">- Python Important Arithematic Operators - \n",
    ">- % Modulus - x % y \n",
    ">- ** Exponentiation - x ** y \n",
    ">- // Floor Division - x // y\n",
    ">- += x = x + 4\n",
    ">- -= x = x - 4\n",
    ">- &= x = x & 4 \n",
    ">- |= x = x | 4 \n",
    ">- ^= x = x ^ 4\n",
    "\n",
    ">- Python Logical Operators \n",
    ">- and - Returns true if both condition are true\n",
    ">- or - Returns true any of the condition is true\n",
    ">- not - reverses the result\n",
    "\n",
    ">- Python Bitwise Operator\n",
    ">- & - AND - sets each bit to 1 if both bits are 1 \n",
    ">- | - OR - sets each bit to 1 if one of two bits is 1\n",
    ">- ^ - XOR - sets each bit to 1 if only one of two bits is 1\n",
    ">- ~ - NOT - inverts all the bits\n",
    ">- << - Zero fill left shift - Shift left by pushing zeros in from the right and let the leftmost bits fall off \n",
    ">- '>>' -  Signed right shift - Shift right by pushing copies of the leftmost bit in from the left, and let the rightmost bits fall off"
   ]
  },
  {
   "cell_type": "markdown",
   "metadata": {},
   "source": [
    "### Python DataStructures -\n",
    ">- Arrays - \n",
    ">- List - collection which is ordered and changeable, Allows duplicate members\n",
    ">- Tuple - collection which is ordered and unchangeable, Allows duplicate members\n",
    ">- Set - collection which is unordered and unindexed. No duplicate members\n",
    ">- Dictionary - collection which is unordered, changeable and indexed. No duplicate members\n"
   ]
  },
  {
   "cell_type": "markdown",
   "metadata": {},
   "source": [
    ">- List - A list is a collection which is ordered and changeable, written in square brackets"
   ]
  },
  {
   "cell_type": "code",
   "execution_count": 55,
   "metadata": {},
   "outputs": [
    {
     "name": "stdout",
     "output_type": "stream",
     "text": [
      "['apple', 'banana', 'cherry']\n"
     ]
    }
   ],
   "source": [
    "list_1 = [\"apple\", \"banana\", \"cherry\"]\n",
    "print(list_1)"
   ]
  },
  {
   "cell_type": "code",
   "execution_count": 60,
   "metadata": {},
   "outputs": [
    {
     "data": {
      "text/plain": [
       "['banana', 'cherry']"
      ]
     },
     "execution_count": 60,
     "metadata": {},
     "output_type": "execute_result"
    }
   ],
   "source": [
    "## Accessing the items by referring the index number - \n",
    "list_1 [1:3]"
   ]
  },
  {
   "cell_type": "code",
   "execution_count": 66,
   "metadata": {},
   "outputs": [
    {
     "data": {
      "text/plain": [
       "['apple', 'banana']"
      ]
     },
     "execution_count": 66,
     "metadata": {},
     "output_type": "execute_result"
    }
   ],
   "source": [
    "## Negative indexing- \n",
    "list_1[-4: -1]"
   ]
  },
  {
   "cell_type": "code",
   "execution_count": 68,
   "metadata": {},
   "outputs": [
    {
     "data": {
      "text/plain": [
       "['apple', 'banana', 'blackcurrant']"
      ]
     },
     "execution_count": 68,
     "metadata": {},
     "output_type": "execute_result"
    }
   ],
   "source": [
    "##changing the second item in the list - \n",
    "list_1[2] = \"blackcurrant\"\n",
    "list_1"
   ]
  },
  {
   "cell_type": "code",
   "execution_count": 69,
   "metadata": {},
   "outputs": [
    {
     "name": "stdout",
     "output_type": "stream",
     "text": [
      "apple\n",
      "banana\n",
      "blackcurrant\n"
     ]
    }
   ],
   "source": [
    "#loop through the list\n",
    "#using a for loop \n",
    "for item in list_1:\n",
    "    print(item)"
   ]
  },
  {
   "cell_type": "code",
   "execution_count": 71,
   "metadata": {},
   "outputs": [
    {
     "name": "stdout",
     "output_type": "stream",
     "text": [
      "Yes Apple is present in this list_1\n"
     ]
    }
   ],
   "source": [
    "#Check if item exists in list - \n",
    "if \"apple\" in list_1:\n",
    "    print(\"Yes Apple is present in this list_1\")\n",
    "else:\n",
    "    print(\"No there's no fruit present in the list\")"
   ]
  },
  {
   "cell_type": "code",
   "execution_count": 72,
   "metadata": {},
   "outputs": [
    {
     "data": {
      "text/plain": [
       "3"
      ]
     },
     "execution_count": 72,
     "metadata": {},
     "output_type": "execute_result"
    }
   ],
   "source": [
    "#length of the list\n",
    "len(list_1)"
   ]
  },
  {
   "cell_type": "code",
   "execution_count": 75,
   "metadata": {},
   "outputs": [
    {
     "name": "stdout",
     "output_type": "stream",
     "text": [
      "['apple', 'banana', 'blackcurrant', 'grape', 'grape', 'grape']\n"
     ]
    }
   ],
   "source": [
    "#Adding items at the end of the list-\n",
    "list_1.append(\"grape\")\n",
    "print(list_1)"
   ]
  },
  {
   "cell_type": "code",
   "execution_count": 77,
   "metadata": {},
   "outputs": [
    {
     "data": {
      "text/plain": [
       "['apple',\n",
       " 'orange',\n",
       " 'orange',\n",
       " 'banana',\n",
       " 'blackcurrant',\n",
       " 'grape',\n",
       " 'grape',\n",
       " 'grape']"
      ]
     },
     "execution_count": 77,
     "metadata": {},
     "output_type": "execute_result"
    }
   ],
   "source": [
    "#Insert an item at the second position of the list - \n",
    "list_1.insert(1, \"orange\")\n",
    "list_1"
   ]
  },
  {
   "cell_type": "code",
   "execution_count": 79,
   "metadata": {},
   "outputs": [
    {
     "data": {
      "text/plain": [
       "['apple', 'orange', 'orange', 'banana', 'blackcurrant', 'grape']"
      ]
     },
     "execution_count": 79,
     "metadata": {},
     "output_type": "execute_result"
    }
   ],
   "source": [
    "#Remove and item in the list - \n",
    "list_1.remove(\"grape\")\n",
    "list_1"
   ]
  },
  {
   "cell_type": "code",
   "execution_count": 82,
   "metadata": {},
   "outputs": [
    {
     "name": "stdout",
     "output_type": "stream",
     "text": [
      "['apple', 'banana', 'blackcurrant', 'grape']\n"
     ]
    }
   ],
   "source": [
    "# Pop() method removes the specified index or the last index if the index is not specified\n",
    "list_1.pop(1) # only accepts the index\n",
    "print(list_1)"
   ]
  },
  {
   "cell_type": "code",
   "execution_count": 83,
   "metadata": {},
   "outputs": [
    {
     "name": "stdout",
     "output_type": "stream",
     "text": [
      "['banana', 'blackcurrant', 'grape']\n"
     ]
    }
   ],
   "source": [
    "# del keyword removes the specified index - \n",
    "del list_1[0]\n",
    "print(list_1)"
   ]
  },
  {
   "cell_type": "code",
   "execution_count": 84,
   "metadata": {},
   "outputs": [],
   "source": [
    "#del can be used to delete the list completely\n",
    "del list_1"
   ]
  },
  {
   "cell_type": "code",
   "execution_count": 85,
   "metadata": {},
   "outputs": [],
   "source": [
    "list_1 = [\"apple\", \"banana\", \"cherry\"]"
   ]
  },
  {
   "cell_type": "code",
   "execution_count": 86,
   "metadata": {},
   "outputs": [],
   "source": [
    "# Empties the list\n",
    "list_1.clear()"
   ]
  },
  {
   "cell_type": "code",
   "execution_count": 87,
   "metadata": {},
   "outputs": [],
   "source": [
    "list_1 = [\"apple\", \"banana\", \"cherry\"]"
   ]
  },
  {
   "cell_type": "markdown",
   "metadata": {},
   "source": [
    ">- Can't copy the list by typing list2 = list1, list2 will onyl be a reference to list1 and changes made in list1 will automatically be made in list1, instead - use copy() method"
   ]
  },
  {
   "cell_type": "code",
   "execution_count": 89,
   "metadata": {},
   "outputs": [],
   "source": [
    "mylist = list_1.copy()"
   ]
  },
  {
   "cell_type": "code",
   "execution_count": 93,
   "metadata": {},
   "outputs": [
    {
     "data": {
      "text/plain": [
       "['apple', 'banana', 'cherry']"
      ]
     },
     "execution_count": 93,
     "metadata": {},
     "output_type": "execute_result"
    }
   ],
   "source": [
    "mylist"
   ]
  },
  {
   "cell_type": "code",
   "execution_count": 95,
   "metadata": {},
   "outputs": [],
   "source": [
    "# copy of the list using list() method - \n",
    "#mylist2 = list(mylist)  **This is suppose to work but not working so use the copy() method to copy the list into other list\n",
    "# print(mylist2)"
   ]
  },
  {
   "cell_type": "markdown",
   "metadata": {},
   "source": [
    "#### Joining the two lists - \n",
    "1. '+' sign\n",
    "2. for loop append\n",
    "3. extend() method\n",
    "4. list() constructor"
   ]
  },
  {
   "cell_type": "code",
   "execution_count": 96,
   "metadata": {},
   "outputs": [
    {
     "name": "stdout",
     "output_type": "stream",
     "text": [
      "['a', 'b', 'c', 1, 2, 3]\n"
     ]
    }
   ],
   "source": [
    "#1. + sign \n",
    "list1 = ['a', 'b', 'c']\n",
    "list2 = [1,2,3]\n",
    "list3 = list1 + list2 \n",
    "print(list3)"
   ]
  },
  {
   "cell_type": "code",
   "execution_count": 97,
   "metadata": {},
   "outputs": [
    {
     "name": "stdout",
     "output_type": "stream",
     "text": [
      "['a', 'b', 'c', 1, 2, 3]\n"
     ]
    }
   ],
   "source": [
    "#2. for loop append method to join two lists\n",
    "for x in list2:\n",
    "    list1.append(x)\n",
    "print(list1)\n"
   ]
  },
  {
   "cell_type": "code",
   "execution_count": 98,
   "metadata": {},
   "outputs": [
    {
     "name": "stdout",
     "output_type": "stream",
     "text": [
      "['a', 'b', 'c', 1, 2, 3, 1, 2, 3]\n"
     ]
    }
   ],
   "source": [
    "#3. Extend() method to add list 2 at the end of list1 \n",
    "list1.extend(list2)\n",
    "print(list1)"
   ]
  },
  {
   "cell_type": "code",
   "execution_count": 100,
   "metadata": {},
   "outputs": [],
   "source": [
    "#4. list constructor \n",
    "# thislist = list(('apple', 'banana', 'grape')) #list constructor is not working for this one\n",
    "# print(thislist)"
   ]
  },
  {
   "cell_type": "markdown",
   "metadata": {},
   "source": [
    "#### List methods - \n",
    "+ append() - Adds an element at the end of the list\n",
    "+ clear() - Removes all the element at the end of the list\n",
    "+ copy() - Returns a copy of the list\n",
    "+ count() - Return the number of elements with the specified value\n",
    "+ extend() - Add the element of the list to teh end of the current list\n",
    "+ index() - Returns the index of the first element with the specified value\n",
    "+ insert() - Adds an element at the specified position\n",
    "+ pop() - Removes the element at the specified position\n",
    "+ remove() - Removes the item with the specified value\n",
    "+ reverse() - Reverses the order of the list\n",
    "+ sort() - Sorts the list"
   ]
  },
  {
   "cell_type": "markdown",
   "metadata": {},
   "source": [
    "Continued to Book_2..."
   ]
  },
  {
   "cell_type": "code",
   "execution_count": null,
   "metadata": {},
   "outputs": [],
   "source": []
  }
 ],
 "metadata": {
  "kernelspec": {
   "display_name": "Python 3",
   "language": "python",
   "name": "python3"
  },
  "language_info": {
   "codemirror_mode": {
    "name": "ipython",
    "version": 3
   },
   "file_extension": ".py",
   "mimetype": "text/x-python",
   "name": "python",
   "nbconvert_exporter": "python",
   "pygments_lexer": "ipython3",
   "version": "3.7.6"
  }
 },
 "nbformat": 4,
 "nbformat_minor": 4
}
